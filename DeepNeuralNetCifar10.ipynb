{
  "nbformat": 4,
  "nbformat_minor": 0,
  "metadata": {
    "colab": {
      "provenance": [],
      "authorship_tag": "ABX9TyNPk72A6iHZskSLR3pCyvRs",
      "include_colab_link": true
    },
    "kernelspec": {
      "name": "python3",
      "display_name": "Python 3"
    },
    "language_info": {
      "name": "python"
    }
  },
  "cells": [
    {
      "cell_type": "markdown",
      "metadata": {
        "id": "view-in-github",
        "colab_type": "text"
      },
      "source": [
        "<a href=\"https://colab.research.google.com/github/nsy2nv/model/blob/master/DeepNeuralNetCifar10.ipynb\" target=\"_parent\"><img src=\"https://colab.research.google.com/assets/colab-badge.svg\" alt=\"Open In Colab\"/></a>"
      ]
    },
    {
      "cell_type": "code",
      "execution_count": 13,
      "metadata": {
        "id": "xHWi-cJE6YQS"
      },
      "outputs": [],
      "source": [
        "from keras.datasets import cifar10\n",
        "from keras.models import Model\n",
        "from keras.layers import Input, Dense, Flatten, Activation, Convolution2D, MaxPooling2D, Dropout\n",
        "from keras.utils import to_categorical\n",
        "import numpy as np\n",
        "import matplotlib.pyplot as plt\n"
      ]
    },
    {
      "cell_type": "code",
      "source": [
        "batch_size = 32 # in each iteration, we consider 32 training examples at once\n",
        "num_epochs = 20 # we iterate 200 times over the entire training set\n",
        "kernel_size = 3 # we will use 3x3 kernels throughout\n",
        "pool_size = 2 # we will use 2x2 pooling throughout\n",
        "conv_depth_1 = 32 # we will initially have 32 kernels per conv. layer...\n",
        "conv_depth_2 = 64 # ...switching to 64 after the first pooling layer\n",
        "drop_prob_1 = 0.25 # dropout after pooling with probability 0.25\n",
        "drop_prob_2 = 0.5 # dropout in the FC layer with probability 0.5\n",
        "hidden_size = 512 # the FC layer will have 512 neurons"
      ],
      "metadata": {
        "id": "wiwSeoc4Fr5h"
      },
      "execution_count": 30,
      "outputs": []
    },
    {
      "cell_type": "code",
      "source": [
        "(X_train, y_train), (X_test, y_test) = cifar10.load_data() # fetch CIFAR-10 data\n",
        "\n",
        "plt.imshow(X_train[1])\n",
        "\n",
        "print(X_train[1])"
      ],
      "metadata": {
        "colab": {
          "base_uri": "https://localhost:8080/",
          "height": 1000
        },
        "id": "X4NmYMqmGBLp",
        "outputId": "3d218648-a9be-4bc4-817e-0f28ddcdb9f6"
      },
      "execution_count": 32,
      "outputs": [
        {
          "output_type": "stream",
          "name": "stdout",
          "text": [
            "[[[154 177 187]\n",
            "  [126 137 136]\n",
            "  [105 104  95]\n",
            "  ...\n",
            "  [ 91  95  71]\n",
            "  [ 87  90  71]\n",
            "  [ 79  81  70]]\n",
            "\n",
            " [[140 160 169]\n",
            "  [145 153 154]\n",
            "  [125 125 118]\n",
            "  ...\n",
            "  [ 96  99  78]\n",
            "  [ 77  80  62]\n",
            "  [ 71  73  61]]\n",
            "\n",
            " [[140 155 164]\n",
            "  [139 146 149]\n",
            "  [115 115 112]\n",
            "  ...\n",
            "  [ 79  82  64]\n",
            "  [ 68  70  55]\n",
            "  [ 67  69  55]]\n",
            "\n",
            " ...\n",
            "\n",
            " [[175 167 166]\n",
            "  [156 154 160]\n",
            "  [154 160 170]\n",
            "  ...\n",
            "  [ 42  34  36]\n",
            "  [ 61  53  57]\n",
            "  [ 93  83  91]]\n",
            "\n",
            " [[165 154 128]\n",
            "  [156 152 130]\n",
            "  [159 161 142]\n",
            "  ...\n",
            "  [103  93  96]\n",
            "  [123 114 120]\n",
            "  [131 121 131]]\n",
            "\n",
            " [[163 148 120]\n",
            "  [158 148 122]\n",
            "  [163 156 133]\n",
            "  ...\n",
            "  [143 133 139]\n",
            "  [143 134 142]\n",
            "  [143 133 144]]]\n"
          ]
        },
        {
          "output_type": "display_data",
          "data": {
            "text/plain": [
              "<Figure size 640x480 with 1 Axes>"
            ],
            "image/png": "[encoded data removed]"
          },
          "metadata": {}
        }
      ]
    },
    {
      "cell_type": "code",
      "source": [
        "num_train, depth, height, width = X_train.shape # there are 50000 training examples in CIFAR-10\n",
        "num_test = X_test.shape[0] # there are 10000 test examples in CIFAR-10\n",
        "num_classes = np.unique(y_train).shape[0] # there are 10 image classes\n",
        "\n",
        "X_train = X_train.astype('float32')\n",
        "X_test = X_test.astype('float32')\n",
        "X_train /= np.max(X_train) # Divides each value by the maximum value in the dataset [0, 1] range\n",
        "X_test /= np.max(X_train) # Divides each value by the maximum value in the dataset [0, 1] range"
      ],
      "metadata": {
        "id": "AumkKE8SHTbU"
      },
      "execution_count": 33,
      "outputs": []
    },
    {
      "cell_type": "code",
      "source": [
        "Y_train = to_categorical(y_train, num_classes) # One-hot encode the labels\n",
        "Y_test = to_categorical(y_test, num_classes) # One-hot encode the labels"
      ],
      "metadata": {
        "id": "nebaBWSqJLBa"
      },
      "execution_count": 34,
      "outputs": []
    },
    {
      "cell_type": "code",
      "source": [
        "inp = Input(shape=(depth, height, width)) # N.B. depth goes first in Keras!\n",
        "# Conv [32] -> Conv [32] -> Pool (with dropout on the pooling layer)\n",
        "conv_1 = Convolution2D(conv_depth_1, kernel_size, kernel_size, padding='same', activation='relu')(inp)\n",
        "conv_2 = Convolution2D(conv_depth_1, kernel_size, kernel_size, padding='same', activation='relu')(conv_1)\n",
        "pool_1 = MaxPooling2D(pool_size=(pool_size, pool_size))(conv_2)\n",
        "drop_1 = Dropout(drop_prob_1)(pool_1)\n",
        "# Conv [64] -> Conv [64] -> Pool (with dropout on the pooling layer)\n",
        "conv_3 = Convolution2D(conv_depth_2, kernel_size, kernel_size, padding='same', activation='relu')(drop_1)\n",
        "conv_4 = Convolution2D(conv_depth_2, kernel_size, kernel_size, padding='same', activation='relu')(conv_3)\n",
        "pool_2 = MaxPooling2D(pool_size=(pool_size, pool_size))(conv_2)\n",
        "drop_2 = Dropout(drop_prob_1)(pool_2)\n",
        "# Now flatten to 1D, apply FC -> ReLU (with dropout) -> softmax\n",
        "flat = Flatten()(drop_2)\n",
        "hidden = Dense(hidden_size, activation='relu')(flat)\n",
        "drop_3 = Dropout(drop_prob_2)(hidden)\n",
        "out = Dense(num_classes, activation='softmax')(drop_3)"
      ],
      "metadata": {
        "id": "sxrwKJTCKeJS"
      },
      "execution_count": 38,
      "outputs": []
    },
    {
      "cell_type": "code",
      "source": [
        "model = Model(inputs=inp, outputs=out) # To define a model, just specify its input and output layers\n",
        "\n",
        "model.compile(loss='categorical_crossentropy', # using the cross-entropy loss function\n",
        "              optimizer='adam', # using the Adam optimiser\n",
        "              metrics=['accuracy']) # reporting the accuracy\n",
        "\n",
        "\n",
        "# Train the model using the training set...\n",
        "model.fit(X_train, Y_train, batch_size=batch_size,epochs=num_epochs,verbose=1, validation_split=0.1) # ...holding out 10% of the data for validation"
      ],
      "metadata": {
        "colab": {
          "base_uri": "https://localhost:8080/"
        },
        "id": "9ibpby4cL6Db",
        "outputId": "7e8ac649-7e44-4b5a-c1a2-849e7053ec8f"
      },
      "execution_count": 36,
      "outputs": [
        {
          "output_type": "stream",
          "name": "stdout",
          "text": [
            "Epoch 1/20\n",
            "1407/1407 [==============================] - 14s 9ms/step - loss: 1.8235 - accuracy: 0.3284 - val_loss: 1.5924 - val_accuracy: 0.4222\n",
            "Epoch 2/20\n",
            "1407/1407 [==============================] - 12s 9ms/step - loss: 1.6033 - accuracy: 0.4117 - val_loss: 1.4978 - val_accuracy: 0.4448\n",
            "Epoch 3/20\n",
            "1407/1407 [==============================] - 12s 9ms/step - loss: 1.5363 - accuracy: 0.4367 - val_loss: 1.3982 - val_accuracy: 0.4972\n",
            "Epoch 4/20\n",
            "1407/1407 [==============================] - 12s 9ms/step - loss: 1.4884 - accuracy: 0.4569 - val_loss: 1.3773 - val_accuracy: 0.5048\n",
            "Epoch 5/20\n",
            "1407/1407 [==============================] - 13s 9ms/step - loss: 1.4531 - accuracy: 0.4703 - val_loss: 1.3276 - val_accuracy: 0.5132\n",
            "Epoch 6/20\n",
            "1407/1407 [==============================] - 13s 9ms/step - loss: 1.4262 - accuracy: 0.4816 - val_loss: 1.3170 - val_accuracy: 0.5208\n",
            "Epoch 7/20\n",
            "1407/1407 [==============================] - 12s 9ms/step - loss: 1.4004 - accuracy: 0.4905 - val_loss: 1.3186 - val_accuracy: 0.5148\n",
            "Epoch 8/20\n",
            "1407/1407 [==============================] - 13s 9ms/step - loss: 1.3802 - accuracy: 0.4981 - val_loss: 1.2614 - val_accuracy: 0.5440\n",
            "Epoch 9/20\n",
            "1407/1407 [==============================] - 13s 9ms/step - loss: 1.3655 - accuracy: 0.5031 - val_loss: 1.2620 - val_accuracy: 0.5322\n",
            "Epoch 10/20\n",
            "1407/1407 [==============================] - 12s 9ms/step - loss: 1.3546 - accuracy: 0.5093 - val_loss: 1.2694 - val_accuracy: 0.5494\n",
            "Epoch 11/20\n",
            "1407/1407 [==============================] - 12s 9ms/step - loss: 1.3392 - accuracy: 0.5170 - val_loss: 1.2339 - val_accuracy: 0.5520\n",
            "Epoch 12/20\n",
            "1407/1407 [==============================] - 13s 9ms/step - loss: 1.3276 - accuracy: 0.5202 - val_loss: 1.2213 - val_accuracy: 0.5552\n",
            "Epoch 13/20\n",
            "1407/1407 [==============================] - 13s 9ms/step - loss: 1.3136 - accuracy: 0.5257 - val_loss: 1.2164 - val_accuracy: 0.5512\n",
            "Epoch 14/20\n",
            "1407/1407 [==============================] - 12s 9ms/step - loss: 1.3065 - accuracy: 0.5251 - val_loss: 1.2278 - val_accuracy: 0.5566\n",
            "Epoch 15/20\n",
            "1407/1407 [==============================] - 12s 8ms/step - loss: 1.2978 - accuracy: 0.5316 - val_loss: 1.2082 - val_accuracy: 0.5636\n",
            "Epoch 16/20\n",
            "1407/1407 [==============================] - 12s 8ms/step - loss: 1.2858 - accuracy: 0.5352 - val_loss: 1.2053 - val_accuracy: 0.5648\n",
            "Epoch 17/20\n",
            "1407/1407 [==============================] - 13s 9ms/step - loss: 1.2795 - accuracy: 0.5394 - val_loss: 1.2011 - val_accuracy: 0.5706\n",
            "Epoch 18/20\n",
            "1407/1407 [==============================] - 13s 9ms/step - loss: 1.2772 - accuracy: 0.5387 - val_loss: 1.2077 - val_accuracy: 0.5704\n",
            "Epoch 19/20\n",
            "1407/1407 [==============================] - 13s 9ms/step - loss: 1.2614 - accuracy: 0.5456 - val_loss: 1.2164 - val_accuracy: 0.5624\n",
            "Epoch 20/20\n",
            "1407/1407 [==============================] - 12s 9ms/step - loss: 1.2606 - accuracy: 0.5456 - val_loss: 1.1932 - val_accuracy: 0.5718\n"
          ]
        },
        {
          "output_type": "execute_result",
          "data": {
            "text/plain": [
              "<keras.src.callbacks.History at 0x7d612190cac0>"
            ]
          },
          "metadata": {},
          "execution_count": 36
        }
      ]
    },
    {
      "cell_type": "markdown",
      "source": [
        "#Test the Model\n"
      ],
      "metadata": {
        "id": "kKI3XX__VCy8"
      }
    },
    {
      "cell_type": "code",
      "source": [
        "model.evaluate(X_test,Y_test, verbose=1) # Evaluate the trained model on the test set!"
      ],
      "metadata": {
        "colab": {
          "base_uri": "https://localhost:8080/"
        },
        "id": "mbWYOYCgVPfU",
        "outputId": "18e4f65d-0af2-4e5a-92d3-c78d4b6b4f4d"
      },
      "execution_count": 39,
      "outputs": [
        {
          "output_type": "stream",
          "name": "stdout",
          "text": [
            "313/313 [==============================] - 1s 4ms/step - loss: 290.6050 - accuracy: 0.3147\n"
          ]
        },
        {
          "output_type": "execute_result",
          "data": {
            "text/plain": [
              "[290.60504150390625, 0.31470000743865967]"
            ]
          },
          "metadata": {},
          "execution_count": 39
        }
      ]
    },
    {
      "cell_type": "code",
      "source": [
        "model.summary()"
      ],
      "metadata": {
        "colab": {
          "base_uri": "https://localhost:8080/"
        },
        "id": "JQ3CufyiW_8u",
        "outputId": "f6e23f16-ec80-433b-9501-5ed5adca552a"
      },
      "execution_count": 40,
      "outputs": [
        {
          "output_type": "stream",
          "name": "stdout",
          "text": [
            "Model: \"model_3\"\n",
            "_________________________________________________________________\n",
            " Layer (type)                Output Shape              Param #   \n",
            "=================================================================\n",
            " input_5 (InputLayer)        [(None, 32, 32, 3)]       0         \n",
            "                                                                 \n",
            " conv2d_9 (Conv2D)           (None, 11, 11, 32)        896       \n",
            "                                                                 \n",
            " conv2d_10 (Conv2D)          (None, 4, 4, 32)          9248      \n",
            "                                                                 \n",
            " max_pooling2d_5 (MaxPoolin  (None, 2, 2, 32)          0         \n",
            " g2D)                                                            \n",
            "                                                                 \n",
            " dropout_5 (Dropout)         (None, 2, 2, 32)          0         \n",
            "                                                                 \n",
            " flatten_1 (Flatten)         (None, 128)               0         \n",
            "                                                                 \n",
            " dense_2 (Dense)             (None, 512)               66048     \n",
            "                                                                 \n",
            " dropout_6 (Dropout)         (None, 512)               0         \n",
            "                                                                 \n",
            " dense_3 (Dense)             (None, 10)                5130      \n",
            "                                                                 \n",
            "=================================================================\n",
            "Total params: 81322 (317.66 KB)\n",
            "Trainable params: 81322 (317.66 KB)\n",
            "Non-trainable params: 0 (0.00 Byte)\n",
            "_________________________________________________________________\n"
          ]
        }
      ]
    }
  ]
}