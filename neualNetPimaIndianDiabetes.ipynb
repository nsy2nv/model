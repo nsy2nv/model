{
  "nbformat": 4,
  "nbformat_minor": 0,
  "metadata": {
    "colab": {
      "provenance": [],
      "authorship_tag": "ABX9TyPk0q8Yy7hZuxTuGlQPsgHu",
      "include_colab_link": true
    },
    "kernelspec": {
      "name": "python3",
      "display_name": "Python 3"
    },
    "language_info": {
      "name": "python"
    }
  },
  "cells": [
    {
      "cell_type": "markdown",
      "metadata": {
        "id": "view-in-github",
        "colab_type": "text"
      },
      "source": [
        "<a href=\"https://colab.research.google.com/github/nsy2nv/model/blob/master/neualNetPimaIndianDiabetes.ipynb\" target=\"_parent\"><img src=\"https://colab.research.google.com/assets/colab-badge.svg\" alt=\"Open In Colab\"/></a>"
      ]
    },
    {
      "cell_type": "code",
      "execution_count": null,
      "metadata": {
        "id": "9ekjd9U1a2ei"
      },
      "outputs": [],
      "source": [
        "import numpy as np\n",
        "from sklearn.model_selection import train_test_split\n",
        "from sklearn.preprocessing import StandardScaler\n",
        "#from sklearn.datasets import load_diabetes\n",
        "from keras.models import Sequential\n",
        "from keras.layers import Dense\n",
        "from keras.optimizers import Adam\n",
        "import pandas as pd"
      ]
    },
    {
      "cell_type": "code",
      "source": [
        "# Load the Diabetes dataset\n",
        "dataset = pd.read_csv('/content/pima-indians-diabetes.csv')\n",
        "print(dataset.shape)\n",
        "\n",
        "# split into input (X) and output (Y) variables\n",
        "X = dataset.iloc[:,0:8]\n",
        "Y = dataset.iloc[:,8]\n",
        "\n",
        "\n",
        "print(X.shape)\n",
        "print(Y.shape)"
      ],
      "metadata": {
        "colab": {
          "base_uri": "https://localhost:8080/"
        },
        "id": "ME4is4XUa88v",
        "outputId": "6b5739a8-783a-47ff-dbec-6df89e4448c0"
      },
      "execution_count": null,
      "outputs": [
        {
          "output_type": "stream",
          "name": "stdout",
          "text": [
            "(767, 9)\n",
            "(767, 8)\n",
            "(767,)\n"
          ]
        }
      ]
    },
    {
      "cell_type": "code",
      "source": [
        "print(Y)"
      ],
      "metadata": {
        "colab": {
          "base_uri": "https://localhost:8080/"
        },
        "id": "aTMdi5J4bUrL",
        "outputId": "3f822726-3aa4-455b-8e3b-112ab1854439"
      },
      "execution_count": null,
      "outputs": [
        {
          "output_type": "stream",
          "name": "stdout",
          "text": [
            "0      0\n",
            "1      1\n",
            "2      0\n",
            "3      1\n",
            "4      0\n",
            "      ..\n",
            "762    0\n",
            "763    0\n",
            "764    0\n",
            "765    1\n",
            "766    0\n",
            "Name: 1, Length: 767, dtype: int64\n"
          ]
        }
      ]
    },
    {
      "cell_type": "code",
      "source": [
        "print(X)"
      ],
      "metadata": {
        "colab": {
          "base_uri": "https://localhost:8080/"
        },
        "id": "xDGxjcM_d4Vz",
        "outputId": "4e396801-12bb-41f2-f25e-f772fb05006c"
      },
      "execution_count": null,
      "outputs": [
        {
          "output_type": "stream",
          "name": "stdout",
          "text": [
            "      6  148  72  35    0  33.6  0.627  50\n",
            "0     1   85  66  29    0  26.6  0.351  31\n",
            "1     8  183  64   0    0  23.3  0.672  32\n",
            "2     1   89  66  23   94  28.1  0.167  21\n",
            "3     0  137  40  35  168  43.1  2.288  33\n",
            "4     5  116  74   0    0  25.6  0.201  30\n",
            "..   ..  ...  ..  ..  ...   ...    ...  ..\n",
            "762  10  101  76  48  180  32.9  0.171  63\n",
            "763   2  122  70  27    0  36.8  0.340  27\n",
            "764   5  121  72  23  112  26.2  0.245  30\n",
            "765   1  126  60   0    0  30.1  0.349  47\n",
            "766   1   93  70  31    0  30.4  0.315  23\n",
            "\n",
            "[767 rows x 8 columns]\n"
          ]
        }
      ]
    },
    {
      "cell_type": "code",
      "source": [
        "# Preprocess the data\n",
        "scaler = StandardScaler()\n",
        "X = scaler.fit_transform(X)\n",
        "print(X)"
      ],
      "metadata": {
        "colab": {
          "base_uri": "https://localhost:8080/"
        },
        "id": "rvDTJdkQeL5-",
        "outputId": "c774174b-3748-4359-b7b7-0c354dc29895"
      },
      "execution_count": null,
      "outputs": [
        {
          "output_type": "stream",
          "name": "stdout",
          "text": [
            "[[-0.84372629 -1.12208597 -0.16024856 ... -0.68372895 -0.36426474\n",
            "  -0.18894038]\n",
            " [ 1.23423997  1.94447577 -0.26357823 ... -1.10230105  0.60470064\n",
            "  -0.1037951 ]\n",
            " [-0.84372629 -0.99692019 -0.16024856 ... -0.49346891 -0.91968415\n",
            "  -1.0403932 ]\n",
            " ...\n",
            " [ 0.343683    0.0044061   0.14974046 ... -0.73446496 -0.68423462\n",
            "  -0.27408566]\n",
            " [-0.84372629  0.16086333 -0.47023757 ... -0.23978884 -0.37030191\n",
            "   1.17338414]\n",
            " [-0.84372629 -0.8717544   0.04641078 ... -0.20173684 -0.47293375\n",
            "  -0.87010264]]\n"
          ]
        }
      ]
    },
    {
      "cell_type": "code",
      "source": [
        "# Split the data into training and testing sets\n",
        "X_train, X_test, y_train, y_test = train_test_split(X, Y, test_size=0.2, random_state=42)"
      ],
      "metadata": {
        "id": "coyT-02ue09z"
      },
      "execution_count": null,
      "outputs": []
    },
    {
      "cell_type": "code",
      "source": [
        "# Create a neural network model\n",
        "model = Sequential()\n",
        "model.add(Dense(12, input_dim=8, activation='relu'))\n",
        "model.add(Dense(7, activation='relu'))\n",
        "model.add(Dense(1, activation='sigmoid'))"
      ],
      "metadata": {
        "id": "MuKRI7rqfBV8"
      },
      "execution_count": null,
      "outputs": []
    },
    {
      "cell_type": "code",
      "source": [
        "# Compile the model\n",
        "model.compile(loss='binary_crossentropy', optimizer=Adam(learning_rate=0.001), metrics=['accuracy'])"
      ],
      "metadata": {
        "id": "_0b_4NqvfLCk"
      },
      "execution_count": null,
      "outputs": []
    },
    {
      "cell_type": "code",
      "source": [
        "# Train the model\n",
        "model.fit(X_train, y_train, epochs=80, batch_size=8, validation_split=0.2)\n",
        "scores = model.evaluate(X, Y)\n",
        "print(\"%s: %.2f%%\" % (model.metrics_names[1], scores[1]*100))"
      ],
      "metadata": {
        "colab": {
          "base_uri": "https://localhost:8080/"
        },
        "id": "v80cFrNefjsK",
        "outputId": "3f22a376-0a9f-4735-a277-75f0d1b123f2"
      },
      "execution_count": null,
      "outputs": [
        {
          "output_type": "stream",
          "name": "stdout",
          "text": [
            "Epoch 1/80\n",
            "62/62 [==============================] - 1s 5ms/step - loss: 3.0511 - accuracy: 0.3449 - val_loss: 1.6229 - val_accuracy: 0.3415\n",
            "Epoch 2/80\n",
            "62/62 [==============================] - 0s 3ms/step - loss: 1.2456 - accuracy: 0.3347 - val_loss: 0.7702 - val_accuracy: 0.3415\n",
            "Epoch 3/80\n",
            "62/62 [==============================] - 0s 3ms/step - loss: 0.7219 - accuracy: 0.5204 - val_loss: 0.6664 - val_accuracy: 0.6667\n",
            "Epoch 4/80\n",
            "62/62 [==============================] - 0s 3ms/step - loss: 0.6737 - accuracy: 0.6531 - val_loss: 0.6631 - val_accuracy: 0.6667\n",
            "Epoch 5/80\n",
            "62/62 [==============================] - 0s 3ms/step - loss: 0.6665 - accuracy: 0.6551 - val_loss: 0.6617 - val_accuracy: 0.6667\n",
            "Epoch 6/80\n",
            "62/62 [==============================] - 0s 3ms/step - loss: 0.6649 - accuracy: 0.6633 - val_loss: 0.6643 - val_accuracy: 0.6667\n",
            "Epoch 7/80\n",
            "62/62 [==============================] - 0s 3ms/step - loss: 0.6666 - accuracy: 0.6714 - val_loss: 0.6594 - val_accuracy: 0.6667\n",
            "Epoch 8/80\n",
            "62/62 [==============================] - 0s 3ms/step - loss: 0.6638 - accuracy: 0.6633 - val_loss: 0.6593 - val_accuracy: 0.6667\n",
            "Epoch 9/80\n",
            "62/62 [==============================] - 0s 3ms/step - loss: 0.6609 - accuracy: 0.6633 - val_loss: 0.6585 - val_accuracy: 0.6667\n",
            "Epoch 10/80\n",
            "62/62 [==============================] - 0s 3ms/step - loss: 0.6598 - accuracy: 0.6612 - val_loss: 0.6578 - val_accuracy: 0.6667\n",
            "Epoch 11/80\n",
            "62/62 [==============================] - 0s 3ms/step - loss: 0.6580 - accuracy: 0.6633 - val_loss: 0.6540 - val_accuracy: 0.6667\n",
            "Epoch 12/80\n",
            "62/62 [==============================] - 0s 3ms/step - loss: 0.6569 - accuracy: 0.6633 - val_loss: 0.6538 - val_accuracy: 0.6667\n",
            "Epoch 13/80\n",
            "62/62 [==============================] - 0s 3ms/step - loss: 0.6551 - accuracy: 0.6633 - val_loss: 0.6516 - val_accuracy: 0.6667\n",
            "Epoch 14/80\n",
            "62/62 [==============================] - 0s 3ms/step - loss: 0.6555 - accuracy: 0.6612 - val_loss: 0.6513 - val_accuracy: 0.6667\n",
            "Epoch 15/80\n",
            "62/62 [==============================] - 0s 3ms/step - loss: 0.6540 - accuracy: 0.6633 - val_loss: 0.6510 - val_accuracy: 0.6667\n",
            "Epoch 16/80\n",
            "62/62 [==============================] - 0s 3ms/step - loss: 0.6584 - accuracy: 0.6592 - val_loss: 0.6487 - val_accuracy: 0.6667\n",
            "Epoch 17/80\n",
            "62/62 [==============================] - 0s 3ms/step - loss: 0.6519 - accuracy: 0.6612 - val_loss: 0.6496 - val_accuracy: 0.6667\n",
            "Epoch 18/80\n",
            "62/62 [==============================] - 0s 3ms/step - loss: 0.6497 - accuracy: 0.6633 - val_loss: 0.6469 - val_accuracy: 0.6667\n",
            "Epoch 19/80\n",
            "62/62 [==============================] - 0s 3ms/step - loss: 0.6489 - accuracy: 0.6612 - val_loss: 0.6467 - val_accuracy: 0.6667\n",
            "Epoch 20/80\n",
            "62/62 [==============================] - 0s 3ms/step - loss: 0.6479 - accuracy: 0.6633 - val_loss: 0.6448 - val_accuracy: 0.6667\n",
            "Epoch 21/80\n",
            "62/62 [==============================] - 0s 3ms/step - loss: 0.6471 - accuracy: 0.6633 - val_loss: 0.6447 - val_accuracy: 0.6667\n",
            "Epoch 22/80\n",
            "62/62 [==============================] - 0s 2ms/step - loss: 0.6457 - accuracy: 0.6633 - val_loss: 0.6430 - val_accuracy: 0.6667\n",
            "Epoch 23/80\n",
            "62/62 [==============================] - 0s 2ms/step - loss: 0.6442 - accuracy: 0.6612 - val_loss: 0.6417 - val_accuracy: 0.6667\n",
            "Epoch 24/80\n",
            "62/62 [==============================] - 0s 3ms/step - loss: 0.6426 - accuracy: 0.6612 - val_loss: 0.6411 - val_accuracy: 0.6667\n",
            "Epoch 25/80\n",
            "62/62 [==============================] - 0s 3ms/step - loss: 0.6410 - accuracy: 0.6612 - val_loss: 0.6404 - val_accuracy: 0.6667\n",
            "Epoch 26/80\n",
            "62/62 [==============================] - 0s 3ms/step - loss: 0.6404 - accuracy: 0.6612 - val_loss: 0.6399 - val_accuracy: 0.6667\n",
            "Epoch 27/80\n",
            "62/62 [==============================] - 0s 3ms/step - loss: 0.6401 - accuracy: 0.6735 - val_loss: 0.6377 - val_accuracy: 0.6667\n",
            "Epoch 28/80\n",
            "62/62 [==============================] - 0s 4ms/step - loss: 0.6397 - accuracy: 0.6612 - val_loss: 0.6363 - val_accuracy: 0.6667\n",
            "Epoch 29/80\n",
            "62/62 [==============================] - 0s 4ms/step - loss: 0.6366 - accuracy: 0.6612 - val_loss: 0.6366 - val_accuracy: 0.6667\n",
            "Epoch 30/80\n",
            "62/62 [==============================] - 0s 4ms/step - loss: 0.6350 - accuracy: 0.6612 - val_loss: 0.6354 - val_accuracy: 0.6829\n",
            "Epoch 31/80\n",
            "62/62 [==============================] - 0s 4ms/step - loss: 0.6349 - accuracy: 0.6796 - val_loss: 0.6322 - val_accuracy: 0.6667\n",
            "Epoch 32/80\n",
            "62/62 [==============================] - 0s 4ms/step - loss: 0.6313 - accuracy: 0.6633 - val_loss: 0.6301 - val_accuracy: 0.6667\n",
            "Epoch 33/80\n",
            "62/62 [==============================] - 0s 3ms/step - loss: 0.6296 - accuracy: 0.6694 - val_loss: 0.6283 - val_accuracy: 0.6829\n",
            "Epoch 34/80\n",
            "62/62 [==============================] - 0s 4ms/step - loss: 0.6273 - accuracy: 0.6837 - val_loss: 0.6267 - val_accuracy: 0.7236\n",
            "Epoch 35/80\n",
            "62/62 [==============================] - 0s 3ms/step - loss: 0.6251 - accuracy: 0.6796 - val_loss: 0.6228 - val_accuracy: 0.6829\n",
            "Epoch 36/80\n",
            "62/62 [==============================] - 0s 4ms/step - loss: 0.6228 - accuracy: 0.6857 - val_loss: 0.6199 - val_accuracy: 0.6829\n",
            "Epoch 37/80\n",
            "62/62 [==============================] - 0s 4ms/step - loss: 0.6204 - accuracy: 0.6694 - val_loss: 0.6177 - val_accuracy: 0.7236\n",
            "Epoch 38/80\n",
            "62/62 [==============================] - 0s 3ms/step - loss: 0.6188 - accuracy: 0.6796 - val_loss: 0.6156 - val_accuracy: 0.7073\n",
            "Epoch 39/80\n",
            "62/62 [==============================] - 0s 3ms/step - loss: 0.6169 - accuracy: 0.6837 - val_loss: 0.6119 - val_accuracy: 0.7154\n",
            "Epoch 40/80\n",
            "62/62 [==============================] - 0s 3ms/step - loss: 0.6131 - accuracy: 0.6939 - val_loss: 0.6076 - val_accuracy: 0.6911\n",
            "Epoch 41/80\n",
            "62/62 [==============================] - 0s 3ms/step - loss: 0.6119 - accuracy: 0.6796 - val_loss: 0.6060 - val_accuracy: 0.6992\n",
            "Epoch 42/80\n",
            "62/62 [==============================] - 0s 3ms/step - loss: 0.6104 - accuracy: 0.6898 - val_loss: 0.6017 - val_accuracy: 0.7154\n",
            "Epoch 43/80\n",
            "62/62 [==============================] - 0s 3ms/step - loss: 0.6077 - accuracy: 0.6694 - val_loss: 0.5982 - val_accuracy: 0.7154\n",
            "Epoch 44/80\n",
            "62/62 [==============================] - 0s 3ms/step - loss: 0.6069 - accuracy: 0.6837 - val_loss: 0.5845 - val_accuracy: 0.7154\n",
            "Epoch 45/80\n",
            "62/62 [==============================] - 0s 3ms/step - loss: 0.6084 - accuracy: 0.6857 - val_loss: 0.5976 - val_accuracy: 0.7154\n",
            "Epoch 46/80\n",
            "62/62 [==============================] - 0s 2ms/step - loss: 0.6015 - accuracy: 0.6939 - val_loss: 0.5907 - val_accuracy: 0.7073\n",
            "Epoch 47/80\n",
            "62/62 [==============================] - 0s 3ms/step - loss: 0.5978 - accuracy: 0.6959 - val_loss: 0.5871 - val_accuracy: 0.6911\n",
            "Epoch 48/80\n",
            "62/62 [==============================] - 0s 3ms/step - loss: 0.5987 - accuracy: 0.6857 - val_loss: 0.5845 - val_accuracy: 0.7073\n",
            "Epoch 49/80\n",
            "62/62 [==============================] - 0s 3ms/step - loss: 0.5972 - accuracy: 0.6878 - val_loss: 0.5809 - val_accuracy: 0.7236\n",
            "Epoch 50/80\n",
            "62/62 [==============================] - 0s 3ms/step - loss: 0.5936 - accuracy: 0.6939 - val_loss: 0.5797 - val_accuracy: 0.6992\n",
            "Epoch 51/80\n",
            "62/62 [==============================] - 0s 3ms/step - loss: 0.5910 - accuracy: 0.6898 - val_loss: 0.5754 - val_accuracy: 0.7317\n",
            "Epoch 52/80\n",
            "62/62 [==============================] - 0s 3ms/step - loss: 0.5907 - accuracy: 0.7061 - val_loss: 0.5720 - val_accuracy: 0.7154\n",
            "Epoch 53/80\n",
            "62/62 [==============================] - 0s 3ms/step - loss: 0.5895 - accuracy: 0.7000 - val_loss: 0.5713 - val_accuracy: 0.7398\n",
            "Epoch 54/80\n",
            "62/62 [==============================] - 0s 3ms/step - loss: 0.5879 - accuracy: 0.7163 - val_loss: 0.5710 - val_accuracy: 0.7480\n",
            "Epoch 55/80\n",
            "62/62 [==============================] - 0s 3ms/step - loss: 0.5857 - accuracy: 0.6959 - val_loss: 0.5681 - val_accuracy: 0.7317\n",
            "Epoch 56/80\n",
            "62/62 [==============================] - 0s 3ms/step - loss: 0.5858 - accuracy: 0.7122 - val_loss: 0.5637 - val_accuracy: 0.7480\n",
            "Epoch 57/80\n",
            "62/62 [==============================] - 0s 3ms/step - loss: 0.5822 - accuracy: 0.7082 - val_loss: 0.5689 - val_accuracy: 0.7073\n",
            "Epoch 58/80\n",
            "62/62 [==============================] - 0s 3ms/step - loss: 0.5870 - accuracy: 0.7000 - val_loss: 0.5661 - val_accuracy: 0.7236\n",
            "Epoch 59/80\n",
            "62/62 [==============================] - 0s 3ms/step - loss: 0.5843 - accuracy: 0.7082 - val_loss: 0.5601 - val_accuracy: 0.7480\n",
            "Epoch 60/80\n",
            "62/62 [==============================] - 0s 3ms/step - loss: 0.5806 - accuracy: 0.7163 - val_loss: 0.5567 - val_accuracy: 0.7480\n",
            "Epoch 61/80\n",
            "62/62 [==============================] - 0s 3ms/step - loss: 0.5767 - accuracy: 0.7224 - val_loss: 0.5548 - val_accuracy: 0.7480\n",
            "Epoch 62/80\n",
            "62/62 [==============================] - 0s 3ms/step - loss: 0.5779 - accuracy: 0.7061 - val_loss: 0.5666 - val_accuracy: 0.7236\n",
            "Epoch 63/80\n",
            "62/62 [==============================] - 0s 3ms/step - loss: 0.5795 - accuracy: 0.7143 - val_loss: 0.5544 - val_accuracy: 0.7480\n",
            "Epoch 64/80\n",
            "62/62 [==============================] - 0s 3ms/step - loss: 0.5781 - accuracy: 0.7061 - val_loss: 0.5494 - val_accuracy: 0.7480\n",
            "Epoch 65/80\n",
            "62/62 [==============================] - 0s 3ms/step - loss: 0.5724 - accuracy: 0.7204 - val_loss: 0.5535 - val_accuracy: 0.7398\n",
            "Epoch 66/80\n",
            "62/62 [==============================] - 0s 3ms/step - loss: 0.5815 - accuracy: 0.7102 - val_loss: 0.5488 - val_accuracy: 0.7561\n",
            "Epoch 67/80\n",
            "62/62 [==============================] - 0s 3ms/step - loss: 0.5710 - accuracy: 0.7245 - val_loss: 0.5535 - val_accuracy: 0.7317\n",
            "Epoch 68/80\n",
            "62/62 [==============================] - 0s 3ms/step - loss: 0.5730 - accuracy: 0.7184 - val_loss: 0.5436 - val_accuracy: 0.7480\n",
            "Epoch 69/80\n",
            "62/62 [==============================] - 0s 4ms/step - loss: 0.5686 - accuracy: 0.7265 - val_loss: 0.5506 - val_accuracy: 0.7561\n",
            "Epoch 70/80\n",
            "62/62 [==============================] - 0s 3ms/step - loss: 0.5687 - accuracy: 0.7265 - val_loss: 0.5477 - val_accuracy: 0.7154\n",
            "Epoch 71/80\n",
            "62/62 [==============================] - 0s 3ms/step - loss: 0.5734 - accuracy: 0.7163 - val_loss: 0.5386 - val_accuracy: 0.7480\n",
            "Epoch 72/80\n",
            "62/62 [==============================] - 0s 3ms/step - loss: 0.5650 - accuracy: 0.7286 - val_loss: 0.5447 - val_accuracy: 0.7561\n",
            "Epoch 73/80\n",
            "62/62 [==============================] - 0s 3ms/step - loss: 0.5639 - accuracy: 0.7204 - val_loss: 0.5375 - val_accuracy: 0.7480\n",
            "Epoch 74/80\n",
            "62/62 [==============================] - 0s 3ms/step - loss: 0.5662 - accuracy: 0.7347 - val_loss: 0.5372 - val_accuracy: 0.7480\n",
            "Epoch 75/80\n",
            "62/62 [==============================] - 0s 3ms/step - loss: 0.5618 - accuracy: 0.7327 - val_loss: 0.5387 - val_accuracy: 0.7398\n",
            "Epoch 76/80\n",
            "62/62 [==============================] - 0s 3ms/step - loss: 0.5652 - accuracy: 0.7347 - val_loss: 0.5335 - val_accuracy: 0.7561\n",
            "Epoch 77/80\n",
            "62/62 [==============================] - 0s 3ms/step - loss: 0.5693 - accuracy: 0.7082 - val_loss: 0.5389 - val_accuracy: 0.7398\n",
            "Epoch 78/80\n",
            "62/62 [==============================] - 0s 3ms/step - loss: 0.5648 - accuracy: 0.7163 - val_loss: 0.5389 - val_accuracy: 0.7398\n",
            "Epoch 79/80\n",
            "62/62 [==============================] - 0s 3ms/step - loss: 0.5619 - accuracy: 0.7143 - val_loss: 0.5328 - val_accuracy: 0.7561\n",
            "Epoch 80/80\n",
            "62/62 [==============================] - 0s 4ms/step - loss: 0.5586 - accuracy: 0.7327 - val_loss: 0.5345 - val_accuracy: 0.7642\n",
            "24/24 [==============================] - 0s 2ms/step - loss: 0.5478 - accuracy: 0.7223\n",
            "accuracy: 72.23%\n"
          ]
        }
      ]
    },
    {
      "cell_type": "code",
      "source": [
        "# Evaluate the model on the test set\n",
        "loss, accuracy = model.evaluate(X_test, y_test)\n",
        "print(\"Test Loss:\", loss)\n",
        "print(\"Test Accuracy:\", accuracy)"
      ],
      "metadata": {
        "colab": {
          "base_uri": "https://localhost:8080/"
        },
        "id": "CaQmeGe2f9v1",
        "outputId": "d5c8fd9c-d311-400f-c962-d4d8d3d89f30"
      },
      "execution_count": null,
      "outputs": [
        {
          "output_type": "stream",
          "name": "stdout",
          "text": [
            "5/5 [==============================] - 0s 3ms/step - loss: 0.6605 - accuracy: 0.6299\n",
            "Test Loss: 0.6604779958724976\n",
            "Test Accuracy: 0.6298701167106628\n"
          ]
        }
      ]
    }
  ]
}